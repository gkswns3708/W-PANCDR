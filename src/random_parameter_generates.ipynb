{
 "cells": [
  {
   "cell_type": "code",
   "execution_count": 1,
   "id": "e7ebb674",
   "metadata": {},
   "outputs": [],
   "source": [
    "import random\n",
    "import pandas as pd\n",
    "\n",
    "def generate_random_params(n_params=20):\n",
    "    # Hyperparameter candidates\n",
    "    nz_ls = [100, 128, 256]\n",
    "    h_dims_ls = [100, 128, 256]\n",
    "    lr_ls = [0.001, 0.0001]\n",
    "    lr_adv_ls = [0.001, 0.0001]\n",
    "    lam_ls = [1, 0.1, 0.01]\n",
    "    batch_size_ls = [[128, 14], [256, 28]]\n",
    "\n",
    "    random_params = []\n",
    "    for _ in range(n_params):\n",
    "        params = {\n",
    "            'nz': random.choice(nz_ls),\n",
    "            'd_dim': random.choice(h_dims_ls),\n",
    "            'lr': random.choice(lr_ls),\n",
    "            'lr_adv': random.choice(lr_adv_ls),\n",
    "            'lam': random.choice(lam_ls),\n",
    "            'batch_size': random.choice(batch_size_ls)\n",
    "        }\n",
    "        random_params.append(params)\n",
    "    \n",
    "    return random_params\n",
    "\n",
    "def create_random_search_params_df(n_folds=10, n_params_per_fold=20, output_file=\"Nested_random_search_params.csv\"):\n",
    "    folds_params = {}\n",
    "    for fold in range(n_folds):\n",
    "        params_list = generate_random_params(n_params_per_fold)\n",
    "        folds_params[f\"Fold_{fold}\"] = params_list\n",
    "    \n",
    "    # Convert to DataFrame\n",
    "    params_df = pd.DataFrame([\n",
    "        [fold, params] for fold, params_list in folds_params.items() for params in params_list\n",
    "    ], columns=['Fold', 'Best_params'])\n",
    "    \n",
    "    # Save to CSV\n",
    "    params_df.to_csv(output_file, index=False)\n",
    "    return params_df\n",
    "\n"
   ]
  },
  {
   "cell_type": "code",
   "execution_count": 2,
   "id": "9033f421",
   "metadata": {},
   "outputs": [],
   "source": [
    "df = pd.read_csv('Nested_random_search_params.csv')"
   ]
  }
 ],
 "metadata": {
  "kernelspec": {
   "display_name": "Python 3",
   "language": "python",
   "name": "python3"
  },
  "language_info": {
   "codemirror_mode": {
    "name": "ipython",
    "version": 3
   },
   "file_extension": ".py",
   "mimetype": "text/x-python",
   "name": "python",
   "nbconvert_exporter": "python",
   "pygments_lexer": "ipython3",
   "version": "3.8.10"
  }
 },
 "nbformat": 4,
 "nbformat_minor": 5
}
