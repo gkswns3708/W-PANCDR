{
 "cells": [
  {
   "cell_type": "code",
   "execution_count": 3,
   "id": "ea43c990",
   "metadata": {},
   "outputs": [
    {
     "name": "stdout",
     "output_type": "stream",
     "text": [
      "Best_params\n",
      "{'nz': 100, 'd_dim': 256, 'lr': 0.0001, 'lr_adv': 0.0001, 'lam': 0.01, 'batch_size': [128, 14]}    0.804502\n",
      "{'nz': 256, 'd_dim': 256, 'lr': 0.0001, 'lr_adv': 0.001, 'lam': 0.1, 'batch_size': [128, 14]}      0.802544\n",
      "{'nz': 128, 'd_dim': 256, 'lr': 0.0001, 'lr_adv': 0.001, 'lam': 1, 'batch_size': [128, 14]}        0.802317\n",
      "{'nz': 100, 'd_dim': 256, 'lr': 0.0001, 'lr_adv': 0.0001, 'lam': 0.1, 'batch_size': [256, 28]}     0.802222\n",
      "{'nz': 128, 'd_dim': 100, 'lr': 0.0001, 'lr_adv': 0.0001, 'lam': 0.01, 'batch_size': [128, 14]}    0.801734\n",
      "Name: Test_AUC, dtype: float64\n",
      "Best_params\n",
      "{'nz': 128, 'd_dim': 100, 'lr': 0.0001, 'lr_adv': 0.0001, 'lam': 0.0001, 'batch_size': [128, 14]}    0.832946\n",
      "{'nz': 128, 'd_dim': 128, 'lr': 0.0001, 'lr_adv': 0.0001, 'lam': 0.0001, 'batch_size': [128, 14]}    0.831610\n",
      "{'nz': 100, 'd_dim': 256, 'lr': 0.0001, 'lr_adv': 0.0001, 'lam': 0.0001, 'batch_size': [128, 14]}    0.831136\n",
      "{'nz': 100, 'd_dim': 256, 'lr': 0.001, 'lr_adv': 0.001, 'lam': 0.0001, 'batch_size': [256, 28]}      0.831023\n",
      "{'nz': 256, 'd_dim': 128, 'lr': 0.001, 'lr_adv': 0.0001, 'lam': 0.0001, 'batch_size': [256, 28]}     0.830692\n",
      "Name: Test_AUC, dtype: float64\n"
     ]
    }
   ],
   "source": [
    "import pandas as pd\n",
    "\n",
    "# CSV 파일 로드\n",
    "p_result = pd.read_csv(\"/mnt/W-PANCDR/src/logs/full_CV_PANCDR/GDSC_results.csv\")\n",
    "w_result = pd.read_csv(\"/mnt/W-PANCDR/src/logs/full_CV_WANCDR/GDSC_results.csv\")\n",
    "# 'Best_params' 기준으로 groupby 후, 'Test_AUC' 평균 계산\n",
    "p_grouped = p_result.groupby('Best_params')['Test_AUC'].mean()\n",
    "w_grouped = w_result.groupby('Best_params')['Test_AUC'].mean()\n",
    "# 평균 Test_AUC가 높은 상위 5개의 Best_params 선택\n",
    "p_top_5 = p_grouped.sort_values(ascending=False).head(5)\n",
    "w_top_5 = w_grouped.sort_values(ascending=False).head(5)\n",
    "p_top_5.to_csv(\"/mnt/W-PANCDR/src/logs/full_CV_PANCDR/top_5_results.csv\")\n",
    "w_top_5.to_csv(\"/mnt/W-PANCDR/src/logs/full_CV_WANCDR/top_5_results.csv\")\n",
    "# 결과 출력\n",
    "print(p_top_5)\n",
    "print(w_top_5)\n"
   ]
  },
  {
   "cell_type": "code",
   "execution_count": null,
   "id": "41ee5147",
   "metadata": {},
   "outputs": [],
   "source": []
  }
 ],
 "metadata": {
  "kernelspec": {
   "display_name": "Python 3",
   "language": "python",
   "name": "python3"
  },
  "language_info": {
   "codemirror_mode": {
    "name": "ipython",
    "version": 3
   },
   "file_extension": ".py",
   "mimetype": "text/x-python",
   "name": "python",
   "nbconvert_exporter": "python",
   "pygments_lexer": "ipython3",
   "version": "3.8.10"
  }
 },
 "nbformat": 4,
 "nbformat_minor": 5
}
